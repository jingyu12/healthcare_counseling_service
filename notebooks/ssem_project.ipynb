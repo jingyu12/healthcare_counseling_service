{
 "cells": [
  {
   "cell_type": "markdown",
   "metadata": {
    "toc": true
   },
   "source": [
    "<h1>Table of Contents<span class=\"tocSkip\"></span></h1>\n",
    "<div class=\"toc\"><ul class=\"toc-item\"><li><ul class=\"toc-item\"><li><span><a href=\"#read-data\" data-toc-modified-id=\"read-data-0.1\"><span class=\"toc-item-num\">0.1&nbsp;&nbsp;</span>read data</a></span></li></ul></li><li><span><a href=\"#preprocessing-for-topic-modeling\" data-toc-modified-id=\"preprocessing-for-topic-modeling-1\"><span class=\"toc-item-num\">1&nbsp;&nbsp;</span>preprocessing for topic modeling</a></span></li><li><span><a href=\"#count\" data-toc-modified-id=\"count-2\"><span class=\"toc-item-num\">2&nbsp;&nbsp;</span>count</a></span></li><li><span><a href=\"#Topic-modeling\" data-toc-modified-id=\"Topic-modeling-3\"><span class=\"toc-item-num\">3&nbsp;&nbsp;</span>Topic modeling</a></span><ul class=\"toc-item\"><li><span><a href=\"#make-tf\" data-toc-modified-id=\"make-tf-3.1\"><span class=\"toc-item-num\">3.1&nbsp;&nbsp;</span>make tf</a></span></li></ul></li><li><span><a href=\"#sklearn-LDA\" data-toc-modified-id=\"sklearn-LDA-4\"><span class=\"toc-item-num\">4&nbsp;&nbsp;</span>sklearn LDA</a></span></li></ul></div>"
   ]
  },
  {
   "cell_type": "markdown",
   "metadata": {},
   "source": [
    "# SSEM X UNIST Health care"
   ]
  },
  {
   "cell_type": "markdown",
   "metadata": {},
   "source": [
    "#### read data"
   ]
  },
  {
   "cell_type": "code",
   "execution_count": 1,
   "metadata": {},
   "outputs": [],
   "source": [
    "import pandas as pd\n",
    "import os,re\n",
    "import matplotlib.pyplot as plt\n",
    "import seaborn as sns\n",
    "import numpy as np\n",
    " \n",
    "%matplotlib inline\n",
    "os.chdir('D:/myworks/18-1/ssem')\n",
    "\n",
    "df=pd.read_csv('health_care_qa2.csv',index_col=0)\n",
    "survey=pd.read_csv('healthcare_survey.csv',index_col=0)\n",
    "visit_topic=pd.read_csv('visit_topic.csv',index_col=0)"
   ]
  },
  {
   "cell_type": "code",
   "execution_count": 2,
   "metadata": {},
   "outputs": [],
   "source": [
    "survey=pd.read_csv('healthcare_survey.csv',index_col=0)"
   ]
  },
  {
   "cell_type": "markdown",
   "metadata": {},
   "source": [
    "### preprocessing for topic modeling"
   ]
  },
  {
   "cell_type": "code",
   "execution_count": 3,
   "metadata": {},
   "outputs": [],
   "source": [
    "# 정규표현식을 사용한 노이즈 제거\n",
    "def delete_noise(text):\n",
    "    noise = re.compile('[\\t\\n\\r\\xa0]')                \n",
    "    result=noise.sub(' ',str(text))                   #  \\t, \\n, \\r, \\xa0 제거 \n",
    "    result=re.sub(' +<.*?>',' ',result)               # 특수문자 제거\n",
    "    result=re.sub(r'[^\\w]',' ',result)                # 특수문자 제거\n",
    "    result=re.sub(' +',' ',result).strip()            # 여러 공백(multi space)을 하나의 공백으로 줄이기\n",
    "    return result"
   ]
  },
  {
   "cell_type": "code",
   "execution_count": 1,
   "metadata": {},
   "outputs": [],
   "source": [
    "doc_name=['권용석','배성범','신재현','최인광','이재원','김윤석','신상헌']\n",
    "\n"
   ]
  },
  {
   "cell_type": "code",
   "execution_count": 4,
   "metadata": {},
   "outputs": [],
   "source": [
    "# 도박중독 및 행위중독, 기업/직장인 정신건강, 대인기피, 불안/우울장애, 치매, 수면장애\n",
    "# 심층심리상담\n",
    "# 심리상담, 우울증, 공황장애, 사회불안증, 강박증, 수면장애\n",
    "# 정신분석, 성의학 - 우울증, 불면증, 불안장애, 조현병, 알코올 의존, 정신과 상담, 성 관련 심리상담, 성치료, 성적 소수자(LGBTAIQ) 상담, 가족 및 부부치료, 심리치료\n",
    "# 인터넷중독, 게임중독, 스마트폰중독, ADHD, 성인ADHD, 인지장애, 뇌자극술\n",
    "# 우울증, 불안증, 화병, 인지기능 감퇴, 대인관계 문제, 치매, ADHD, 틱 증후군, 수면장애/하지불안증후군, 강박증, 조현병, 조울증\n",
    "# 피로\n",
    "\n",
    "# --> 도박/중독, 대인관계/대인기피, 수면장애/피로, 성관련, 가족/부부, 불안/우울\n",
    "\n",
    "# answer preprocessing\n",
    "doc_name=['권용석','배성범','신재현','최인광','이재원','김윤석','신상헌']\n",
    "\n",
    "for i in doc_name:\n",
    "    df.answer=df.answer.apply(lambda x: x.split(i+' 입니다.')[-1])"
   ]
  },
  {
   "cell_type": "code",
   "execution_count": 5,
   "metadata": {},
   "outputs": [],
   "source": [
    "from eunjeon import Mecab\n",
    "\n",
    "\n",
    "mc=Mecab()\n",
    "\n",
    "def get_nouns(doc):\n",
    "    noun_list=mc.nouns(doc)\n",
    "    noun_list=[noun for noun in noun_list if len(noun)>1]\n",
    "    return ' '.join(noun_list)"
   ]
  },
  {
   "cell_type": "code",
   "execution_count": 6,
   "metadata": {},
   "outputs": [
    {
     "data": {
      "text/plain": [
       "(811, 3)"
      ]
     },
     "execution_count": 6,
     "metadata": {},
     "output_type": "execute_result"
    }
   ],
   "source": [
    "# survey 문제 없는 사람들 제거\n",
    "s_r_dict=dict(zip(np.unique(survey.results),list(range(32))))\n",
    "survey['dic']=survey.results.map(s_r_dict)\n",
    "\n",
    "#survey=survey.query('dic!=10').reset_index(drop=True)\n",
    "\n",
    "survey.shape"
   ]
  },
  {
   "cell_type": "code",
   "execution_count": 13,
   "metadata": {},
   "outputs": [],
   "source": [
    "a=survey.query('dic==10').text.apply(lambda x: len(x))\n",
    "b=survey.query('dic!=10').text.apply(lambda x: len(x))"
   ]
  },
  {
   "cell_type": "code",
   "execution_count": 6,
   "metadata": {},
   "outputs": [],
   "source": [
    "# Q&A \n",
    "df.question=df.question.apply(delete_noise)\n",
    "df.question=df.question.apply(get_nouns)\n",
    "\n",
    "df.answer=df.answer.apply(delete_noise)\n",
    "df.answer=df.answer.apply(get_nouns)\n",
    "\n",
    "# survey\n",
    "survey.text=survey.text.apply(delete_noise)\n",
    "survey.text=survey.text.apply(get_nouns)\n",
    "\n",
    "survey.results=survey.results.apply(delete_noise)\n",
    "survey.results=survey.results.apply(get_nouns)"
   ]
  },
  {
   "cell_type": "code",
   "execution_count": null,
   "metadata": {},
   "outputs": [],
   "source": [
    "plt.plot(lg.index, lg['Adj Close'], label='LG Electronics')\n",
    "plt.plot(samsung.index, samsung['Adj Close'], label='Samsung Electronics')\n",
    "\n",
    "plt.legend(loc='upper right')"
   ]
  },
  {
   "cell_type": "code",
   "execution_count": 34,
   "metadata": {},
   "outputs": [
    {
     "data": {
      "text/plain": [
       "Text(0.5,0,'Generated text length')"
      ]
     },
     "execution_count": 34,
     "metadata": {},
     "output_type": "execute_result"
    },
    {
     "data": {
      "image/png": "[encoded data removed]",
      "text/plain": [
       "<matplotlib.figure.Figure at 0x29bcedfb710>"
      ]
     },
     "metadata": {},
     "output_type": "display_data"
    }
   ],
   "source": [
    "plt.figure(figsize=(10,5))\n",
    "f=sns.distplot(a,label='positive results group')\n",
    "f.set_title('Difference in generated text length between relatively positive/negative results group',)\n",
    "sns.distplot(b,label='negative results group')\n",
    "plt.legend(loc='upper right')\n",
    "plt.xlabel('Generated text length')\n",
    "#plt.title('Difference in generated text length between relatively positive/negative results group')"
   ]
  },
  {
   "cell_type": "code",
   "execution_count": null,
   "metadata": {},
   "outputs": [],
   "source": [
    "plt.xlabel"
   ]
  },
  {
   "cell_type": "markdown",
   "metadata": {},
   "source": [
    "### count"
   ]
  },
  {
   "cell_type": "markdown",
   "metadata": {},
   "source": [
    "### Topic modeling"
   ]
  },
  {
   "cell_type": "markdown",
   "metadata": {},
   "source": [
    "#### make tf"
   ]
  },
  {
   "cell_type": "code",
   "execution_count": 127,
   "metadata": {},
   "outputs": [],
   "source": [
    "from sklearn.feature_extraction.text import CountVectorizer\n",
    "from sklearn.decomposition import LatentDirichletAllocation\n",
    "\n",
    "# LDA can only use raw term counts for LDA because it is a probabilistic graphical model\n",
    "tf_vec=CountVectorizer(max_df=0.95, min_df=2)\n",
    "tf_model=tf_vec.fit(df.question)\n",
    "\n",
    "def make_tf(documnet_list,tf_model):\n",
    "    tf_feature_names=tf_vec.get_feature_names()\n",
    "    tf=tf_model.transform(documnet_list)\n",
    "    print('Term frequency matrix shape :',tf.shape)\n",
    "    return tf,tf_feature_names"
   ]
  },
  {
   "cell_type": "code",
   "execution_count": 130,
   "metadata": {},
   "outputs": [
    {
     "name": "stdout",
     "output_type": "stream",
     "text": [
      "Term frequency matrix shape : (2577, 4677)\n"
     ]
    }
   ],
   "source": [
    "# 지식인 Question으로 TF 모델 생성\n",
    "tf_matrix,tf_feature_names=make_tf(df.question,tf_model)"
   ]
  },
  {
   "cell_type": "markdown",
   "metadata": {},
   "source": [
    "### sklearn LDA"
   ]
  },
  {
   "cell_type": "code",
   "execution_count": 135,
   "metadata": {},
   "outputs": [
    {
     "name": "stdout",
     "output_type": "stream",
     "text": [
      "Wall time: 20.6 s\n"
     ]
    }
   ],
   "source": [
    "%%time\n",
    "\n",
    "# LDA 모델 생성\n",
    "n_topics = 6\n",
    "\n",
    "# Run LDA\n",
    "lda = LatentDirichletAllocation(n_components=n_topics, \n",
    "                                max_iter=30,\n",
    "                                learning_method='online',\n",
    "                                random_state=0, n_jobs=4).fit(tf_matrix)"
   ]
  },
  {
   "cell_type": "code",
   "execution_count": 156,
   "metadata": {},
   "outputs": [],
   "source": [
    "q=[]\n",
    "s=[]\n",
    "for i in range(2,15):\n",
    "    \n",
    "    # LDA 모델 생성\n",
    "    n_topics = i\n",
    "\n",
    "    # Run LDA\n",
    "    lda = LatentDirichletAllocation(n_components=n_topics, \n",
    "                                    max_iter=100,\n",
    "                                    learning_method='online',\n",
    "                                    random_state=0, n_jobs=4).fit(tf_matrix)\n",
    "\n",
    "    q.append(lda.perplexity(tf_matrix))\n",
    "    s.append(lda.perplexity(tf_survey))"
   ]
  },
  {
   "cell_type": "code",
   "execution_count": 157,
   "metadata": {},
   "outputs": [
    {
     "name": "stdout",
     "output_type": "stream",
     "text": [
      "done\n"
     ]
    }
   ],
   "source": [
    "print('done')"
   ]
  },
  {
   "cell_type": "code",
   "execution_count": 151,
   "metadata": {},
   "outputs": [
    {
     "data": {
      "text/plain": [
       "[<matplotlib.lines.Line2D at 0x2b9eded8400>]"
      ]
     },
     "execution_count": 151,
     "metadata": {},
     "output_type": "execute_result"
    },
    {
     "data": {
      "image/png": "[encoded data removed]",
      "text/plain": [
       "<matplotlib.figure.Figure at 0x2b9edeae860>"
      ]
     },
     "metadata": {},
     "output_type": "display_data"
    }
   ],
   "source": [
    "plt.plot(range(1,7),rr)"
   ]
  },
  {
   "cell_type": "code",
   "execution_count": 152,
   "metadata": {},
   "outputs": [
    {
     "data": {
      "text/plain": [
       "[982.535393682647,\n",
       " 945.4943430603587,\n",
       " 910.6200267667665,\n",
       " 930.1402438124263,\n",
       " 949.8277164463668,\n",
       " 957.6224507403756]"
      ]
     },
     "execution_count": 152,
     "metadata": {},
     "output_type": "execute_result"
    }
   ],
   "source": [
    "rr"
   ]
  },
  {
   "cell_type": "code",
   "execution_count": 148,
   "metadata": {},
   "outputs": [
    {
     "data": {
      "text/plain": [
       "[910.6200267667665,\n",
       " 930.1402438124263,\n",
       " 949.8277164463668,\n",
       " 957.6224507403756,\n",
       " 935.6764710164775,\n",
       " 936.2170659428087,\n",
       " 953.1137085607453,\n",
       " 949.0924481274378,\n",
       " 959.0454083321376]"
      ]
     },
     "execution_count": 148,
     "metadata": {},
     "output_type": "execute_result"
    }
   ],
   "source": [
    "r"
   ]
  },
  {
   "cell_type": "code",
   "execution_count": 147,
   "metadata": {},
   "outputs": [
    {
     "data": {
      "text/plain": [
       "[<matplotlib.lines.Line2D at 0x2b9ede8f828>]"
      ]
     },
     "execution_count": 147,
     "metadata": {},
     "output_type": "execute_result"
    },
    {
     "data": {
      "image/png": "[encoded data removed]",
      "text/plain": [
       "<matplotlib.figure.Figure at 0x2b9ece5b518>"
      ]
     },
     "metadata": {},
     "output_type": "display_data"
    }
   ],
   "source": [
    "plt.plot(range(3,12),r)"
   ]
  },
  {
   "cell_type": "code",
   "execution_count": 141,
   "metadata": {},
   "outputs": [
    {
     "name": "stdout",
     "output_type": "stream",
     "text": [
      "done\n"
     ]
    }
   ],
   "source": [
    "print('done')"
   ]
  },
  {
   "cell_type": "code",
   "execution_count": 139,
   "metadata": {},
   "outputs": [
    {
     "data": {
      "text/plain": [
       "960.7684894534053"
      ]
     },
     "execution_count": 139,
     "metadata": {},
     "output_type": "execute_result"
    }
   ],
   "source": [
    "lda.perplexity(tf_matrix)"
   ]
  },
  {
   "cell_type": "code",
   "execution_count": null,
   "metadata": {},
   "outputs": [],
   "source": [
    "# document 별로 topic 구하기\n",
    "def get_document_topic(lda_model,tf_model,top_n_topic):\n",
    "    doc_topic = lda_model.transform(tf_model)\n",
    "    \n",
    "    topic_most_pr_n_l=[]\n",
    "    prob_l=[]\n",
    "    \n",
    "    for n in range(tf_model.shape[0]):\n",
    "        topic_most_pr_n=doc_topic[n].argsort()[-top_n_topic:][::-1] #topic_most_pr = doc_topic[n].argmax()\n",
    "        topic_most_pr_n_l.append(list(topic_most_pr_n))   \n",
    "    \n",
    "        prob=doc_topic[n][topic_most_pr_n]\n",
    "        prob_l.append(list(prob))\n",
    "        if n<5:            \n",
    "            print('doc :{0}, topic: {1}, prob: {2}'\n",
    "                  .format(n,topic_most_pr_n,prob))\n",
    "        \n",
    "    return topic_most_pr_n_l,prob_l"
   ]
  },
  {
   "cell_type": "code",
   "execution_count": 153,
   "metadata": {},
   "outputs": [
    {
     "name": "stdout",
     "output_type": "stream",
     "text": [
      "Term frequency matrix shape : (440, 4677)\n"
     ]
    }
   ],
   "source": [
    "# Survey text TF 만들기\n",
    "tf_survey,tf_survey_feature_names=make_tf(survey.text,tf_model)"
   ]
  },
  {
   "cell_type": "code",
   "execution_count": null,
   "metadata": {},
   "outputs": [],
   "source": [
    "# how many topic?\n",
    "k=6\n",
    "\n",
    "print('Q&A data topic modeling \\n')\n",
    "q_topic,q_topic_prob=get_document_topic(lda,tf,k)\n",
    "print('\\nsurvey data topic modeling \\n')\n",
    "survey_topic,survey_topic_prob=get_document_topic(lda,tf_survey,k)\n",
    "\n",
    "#pd.Series(topic_label_list).astype(str).value_counts()[:10]\n",
    "\n",
    "# sort한 토픽 리스트 생성\n",
    "q_topic_sorted=[sorted(i) for i in q_topic]\n",
    "s_topic_sorted=[sorted(i) for i in survey_topic]\n",
    "\n",
    "print('\\nunique combination of Survey text topics label :',len(pd.Series(s_topic_sorted).astype(str).value_counts()))\n",
    "print('unique combination of Naver Question topics label :',len(pd.Series(q_topic_sorted).astype(str).value_counts()))"
   ]
  },
  {
   "cell_type": "code",
   "execution_count": null,
   "metadata": {},
   "outputs": [],
   "source": [
    "# 그냥 확률 값으로 원핫 인코딩 하기\n",
    "prob_array=lda.transform(tf_matrix)\n",
    "\n",
    "def make_one_hot_vector(a):\n",
    "    result=np.where(a==np.max(a),1,0)\n",
    "    return result\n",
    "\n",
    "one_hot_qlabel=pd.Series(prob_array).apply(make_one_hot_vector)\n",
    "print(one_hot_qlabel.shape)"
   ]
  },
  {
   "cell_type": "code",
   "execution_count": 136,
   "metadata": {},
   "outputs": [
    {
     "name": "stdout",
     "output_type": "stream",
     "text": [
      "Topic 0:\n",
      "엄마 아빠 저희 병원 입원 가족 동생 언니 부모 정신\n",
      "Topic 1:\n",
      "시간 정도 하루 아침 중독 피곤 불면증 복용 수면 운동\n",
      "Topic 2:\n",
      "치료 정신 병원 상담 검사 게임 의사 처방 약물 정신과\n",
      "Topic 3:\n",
      "생각 사람 친구 증상 정도 불안 때문 스트레스 이상 학교\n",
      "Topic 4:\n",
      "벌레 리스 화장실 사고 페달 결벽증 샤워 버스 사진 냄새\n",
      "Topic 5:\n",
      "아버지 어머니 복용 아이 저희 남편 결혼 신랑 애기 부작용\n"
     ]
    }
   ],
   "source": [
    "# 전체\n",
    "def display_topics(model, feature_names, no_top_words):\n",
    "    for topic_idx, topic in enumerate(model.components_):\n",
    "        print (\"Topic %d:\" % (topic_idx))\n",
    "        print (\" \".join([feature_names[i]\n",
    "                        for i in topic.argsort()[:-no_top_words - 1:-1]]))\n",
    "\n",
    "no_top_words = 10\n",
    "display_topics(lda, tf_feature_names, no_top_words)"
   ]
  },
  {
   "cell_type": "code",
   "execution_count": null,
   "metadata": {},
   "outputs": [],
   "source": []
  },
  {
   "cell_type": "code",
   "execution_count": null,
   "metadata": {},
   "outputs": [],
   "source": []
  },
  {
   "cell_type": "code",
   "execution_count": null,
   "metadata": {},
   "outputs": [],
   "source": []
  },
  {
   "cell_type": "code",
   "execution_count": null,
   "metadata": {},
   "outputs": [],
   "source": []
  },
  {
   "cell_type": "code",
   "execution_count": null,
   "metadata": {},
   "outputs": [],
   "source": []
  },
  {
   "cell_type": "markdown",
   "metadata": {},
   "source": [
    "# Doc2Vec"
   ]
  },
  {
   "cell_type": "markdown",
   "metadata": {},
   "source": [
    "질문 : BFI(5가지 성격 : 외향성 등 ), 의사소통, 스트레스, 우울증, 자살 -> 5개  \n",
    "답변 : 스트레스, 우울, 자살  -> 3개"
   ]
  },
  {
   "cell_type": "code",
   "execution_count": null,
   "metadata": {},
   "outputs": [],
   "source": []
  },
  {
   "cell_type": "code",
   "execution_count": null,
   "metadata": {},
   "outputs": [],
   "source": []
  },
  {
   "cell_type": "code",
   "execution_count": 24,
   "metadata": {},
   "outputs": [
    {
     "name": "stderr",
     "output_type": "stream",
     "text": [
      "D:\\Anaconda3\\lib\\site-packages\\gensim\\utils.py:1197: UserWarning: detected Windows; aliasing chunkize to chunkize_serial\n",
      "  warnings.warn(\"detected Windows; aliasing chunkize to chunkize_serial\")\n"
     ]
    }
   ],
   "source": [
    "from gensim.models.doc2vec import LabeledSentence, Doc2Vec, TaggedDocument\n",
    "\n",
    "# labeled sentence 생성\n",
    "def make_tagged_documnet(documnet,label):\n",
    "    doc=[TaggedDocument(text, [label]) for text, label in list(zip(documnet,label))]\n",
    "    print('The number of tagged documnet :',len(doc))\n",
    "    return doc\n",
    "\n",
    "# doc2vec modeling\n",
    "def modeling_doc2vec(document,label):\n",
    "    doc=make_tagged_documnet(document,label)\n",
    "    model=Doc2Vec(doc, dm=0, dm_mean=0, alpha=0.1, vector_size= 300, window = 5, min_count = 1, workers=4, seed = 42, epochs=7, hs=1,negative=3)\n",
    "    return model"
   ]
  },
  {
   "cell_type": "code",
   "execution_count": 36,
   "metadata": {},
   "outputs": [],
   "source": [
    "# \n",
    "answer_list=df.answer.apply(lambda x: x.split(' '))\n",
    "question_list=df.question.apply(lambda x : x.split(' '))\n",
    "\n",
    "# q_topic\n",
    "#topic_label_list=pd.Series(q_topic_sorted).astype(str)"
   ]
  },
  {
   "cell_type": "code",
   "execution_count": 1,
   "metadata": {},
   "outputs": [],
   "source": [
    "model_one=modeling_doc2vec(question_list,one_hot_qlabel)\n",
    "model_two=modeling_doc2vec(answer_list,topic_label_list)"
   ]
  },
  {
   "cell_type": "code",
   "execution_count": 335,
   "metadata": {},
   "outputs": [],
   "source": [
    "# apply\n",
    "survey.text=survey.text.apply(lambda x: x.split(' '))\n",
    "survey.results=survey.results.apply(lambda x : x.split(' '))"
   ]
  },
  {
   "cell_type": "code",
   "execution_count": 360,
   "metadata": {},
   "outputs": [],
   "source": [
    "# get similar movie code (x)\n",
    "def get_similar_code(model,query):\n",
    "    model.random.seed(23)\n",
    "    new_vector = model.infer_vector(query,alpha=0.001)\n",
    "    sims = model.docvecs.most_similar([new_vector],topn=5)\n",
    "    sim_code = [code for code, sim in sims]\n",
    "    return sim_code"
   ]
  },
  {
   "cell_type": "code",
   "execution_count": 361,
   "metadata": {},
   "outputs": [],
   "source": [
    "text_results=[get_similar_code(model_one,i) for i in survey.text]\n",
    "answer_results=[get_similar_code(model_two,i) for i in survey.results]\n",
    "\n",
    "#survey['text_results'] = survey.apply(lambda x: get_similar_code(model_one, x['text']), axis=1)\n",
    "#survey['answer_results'] = survey.apply(lambda x: get_similar_code(model_two, x['results']), axis=1)"
   ]
  },
  {
   "cell_type": "code",
   "execution_count": 362,
   "metadata": {},
   "outputs": [],
   "source": [
    "def calculate_survey_similarity(text_results,answer_results):\n",
    "    results=[len(set(text_results[i]) & set(answer_results[i]))/5 for i in range(survey.shape[0])]\n",
    "    return sum(results)/len(results)"
   ]
  },
  {
   "cell_type": "code",
   "execution_count": 363,
   "metadata": {},
   "outputs": [
    {
     "data": {
      "text/plain": [
       "0.3334155363748453"
      ]
     },
     "execution_count": 363,
     "metadata": {},
     "output_type": "execute_result"
    }
   ],
   "source": [
    "calculate_survey_similarity(text_results,answer_results)"
   ]
  },
  {
   "cell_type": "code",
   "execution_count": null,
   "metadata": {},
   "outputs": [],
   "source": [
    "# 유사 영화 코드를 찾고, 정확도를 구함 \n",
    "# get similar movie code (x)\n",
    "def get_similar_code(query):\n",
    "    model.random.seed(23)\n",
    "    new_vector = model.infer_vector(query,alpha=0.001)\n",
    "    sims = model.docvecs.most_similar([new_vector],topn=1)\n",
    "    sim_code = [code for code, sim in sims]\n",
    "    return sim_code\n",
    "\n",
    "def get_acc(test):\n",
    "    sim_code=list(test.q_phrase.apply(get_similar_code))\n",
    "    code_list=list(test.code)\n",
    "    acc=[code_list[i] in sim_code[i] for i in range(len(sim_code))]\n",
    "    return (sum(acc)/len(acc))"
   ]
  },
  {
   "cell_type": "code",
   "execution_count": null,
   "metadata": {},
   "outputs": [],
   "source": []
  },
  {
   "cell_type": "code",
   "execution_count": null,
   "metadata": {},
   "outputs": [],
   "source": [
    "# 학습한 모델에서 트레인 데이터와 테스트 데이터의 embeded vector를 구하는 함수입니다\n",
    "def get_infer_vector():   \n",
    "    train_list=list(train.tagged)\n",
    "    test_list=list(test.tagged)\n",
    "    \n",
    "    train_vec=[]\n",
    "    test_vec=[]\n",
    "    \n",
    "    for i in train_list:\n",
    "        model.random.seed(23)\n",
    "        train_vec.append(model.infer_vector(i,alpha=0.001))\n",
    "    for j in test_list:\n",
    "        model.random.seed(23)\n",
    "        test_vec.append(model.infer_vector(j,alpha=0.001))\n",
    "    \n",
    "    print('train vector len :',len(train_vec))\n",
    "    print('test vector len :',len(test_vec))\n",
    "    \n",
    "    return train_vec,test_vec"
   ]
  },
  {
   "cell_type": "code",
   "execution_count": null,
   "metadata": {},
   "outputs": [],
   "source": []
  },
  {
   "cell_type": "code",
   "execution_count": 22,
   "metadata": {},
   "outputs": [
    {
     "name": "stderr",
     "output_type": "stream",
     "text": [
      "D:\\Anaconda3\\lib\\site-packages\\h5py\\__init__.py:36: FutureWarning: Conversion of the second argument of issubdtype from `float` to `np.floating` is deprecated. In future, it will be treated as `np.float64 == np.dtype(float).type`.\n",
      "  from ._conv import register_converters as _register_converters\n"
     ]
    }
   ],
   "source": [
    "import tensorflow as tf\n",
    "\n",
    "tf.enable_eager_execution()"
   ]
  },
  {
   "cell_type": "code",
   "execution_count": 133,
   "metadata": {},
   "outputs": [],
   "source": [
    "tf.set_random_seed(777)  # reproducibility\n",
    "\n",
    "#mnist = input_data.read_data_sets(\"MNIST_data/\", one_hot=True)\n",
    "# Check out https://www.tensorflow.org/get_started/mnist/beginners for\n",
    "# more information about the mnist dataset\n",
    "\n",
    "# parameters\n",
    "learning_rate = 0.001\n",
    "training_epochs = 15\n",
    "batch_size = 100\n",
    "\n",
    "# input place holders\n",
    "X = tf.placeholder(tf.float32, [None, 300])\n",
    "Y = tf.placeholder(tf.float32, [None, 6])"
   ]
  },
  {
   "cell_type": "code",
   "execution_count": null,
   "metadata": {},
   "outputs": [],
   "source": [
    "# weights & bias for nn layers\n",
    "W1 = tf.Variable(tf.random_normal([300, 150]))\n",
    "b1 = tf.Variable(tf.random_normal([150]))\n",
    "L1 = tf.nn.relu(tf.matmul(X, W1) + b1)\n",
    "\n",
    "W2 = tf.Variable(tf.random_normal([150, 150]))\n",
    "b2 = tf.Variable(tf.random_normal([150]))\n",
    "L2 = tf.nn.relu(tf.matmul(L1, W2) + b2)\n",
    "\n",
    "W3 = tf.Variable(tf.random_normal([150, 6]))\n",
    "b3 = tf.Variable(tf.random_normal([6]))\n",
    "hypothesis = tf.matmul(L2, W3) + b3"
   ]
  },
  {
   "cell_type": "code",
   "execution_count": null,
   "metadata": {},
   "outputs": [],
   "source": [
    "cost = tf.reduce_mean(tf.nn.softmax_cross_entropy_with_logits(\n",
    "    logits=hypothesis, labels=Y))\n",
    "optimizer = tf.train.AdamOptimizer(learning_rate=learning_rate).minimize(cost)\n",
    "# define cost/loss & optimizer\n",
    "# initialize\n",
    "sess = tf.Session()\n",
    "sess.run(tf.global_variables_initializer())\n",
    "\n",
    "# train my model\n",
    "for epoch in range(training_epochs):\n",
    "    avg_cost = 0\n",
    "    total_batch = int(mnist.train.num_examples / batch_size)\n",
    "\n",
    "    for i in range(total_batch):\n",
    "        batch_xs, batch_ys = mnist.train.next_batch(batch_size)\n",
    "        feed_dict = {X: batch_xs, Y: batch_ys}\n",
    "        c, _ = sess.run([cost, optimizer], feed_dict=feed_dict)\n",
    "        avg_cost += c / total_batch\n",
    "\n",
    "    print('Epoch:', '%04d' % (epoch + 1), 'cost =', '{:.9f}'.format(avg_cost))\n",
    "\n",
    "print('Learning Finished!')"
   ]
  },
  {
   "cell_type": "code",
   "execution_count": null,
   "metadata": {},
   "outputs": [],
   "source": [
    "# Test model and check accuracy\n",
    "correct_prediction = tf.equal(tf.argmax(hypothesis, 1), tf.argmax(Y, 1))\n",
    "accuracy = tf.reduce_mean(tf.cast(correct_prediction, tf.float32))\n",
    "print('Accuracy:', sess.run(accuracy, feed_dict={\n",
    "      X: mnist.test.images, Y: mnist.test.labels}))\n",
    "\n",
    "# Get one and predict\n",
    "r = random.randint(0, mnist.test.num_examples - 1)\n",
    "print(\"Label: \", sess.run(tf.argmax(mnist.test.labels[r:r + 1], 1)))\n",
    "print(\"Prediction: \", sess.run(\n",
    "    tf.argmax(hypothesis, 1), feed_dict={X: mnist.test.images[r:r + 1]}))"
   ]
  },
  {
   "cell_type": "code",
   "execution_count": null,
   "metadata": {},
   "outputs": [],
   "source": []
  },
  {
   "cell_type": "code",
   "execution_count": null,
   "metadata": {},
   "outputs": [],
   "source": []
  },
  {
   "cell_type": "code",
   "execution_count": null,
   "metadata": {},
   "outputs": [],
   "source": []
  },
  {
   "cell_type": "markdown",
   "metadata": {},
   "source": [
    "# TEST"
   ]
  },
  {
   "cell_type": "code",
   "execution_count": null,
   "metadata": {},
   "outputs": [],
   "source": [
    "class preprocessing_text:\n",
    "    def delete_noise(self,doc):\n",
    "        noise = re.compile('[\\t\\n\\r\\xa0]')                \n",
    "        result=noise.sub(' ',str(doc))                   #  \\t, \\n, \\r, \\xa0 제거 \n",
    "        result=re.sub(' +<.*?>',' ',result)               # 특수문자 제거\n",
    "        result=re.sub(r'[^\\w]',' ',result)                # 특수문자 제거\n",
    "        result=re.sub(' +',' ',result).strip()            # 여러 공백(multi space)을 하나의 공백으로 줄이기\n",
    "        return result\n",
    "    \n",
    "    def get_nouns(self,doc):\n",
    "        noun_list=mc.nouns(doc)\n",
    "        noun_list=[noun for noun in noun_list if len(noun)>1]\n",
    "        return ' '.join(noun_list)"
   ]
  },
  {
   "cell_type": "markdown",
   "metadata": {},
   "source": [
    "word cloud"
   ]
  },
  {
   "cell_type": "code",
   "execution_count": null,
   "metadata": {},
   "outputs": [],
   "source": [
    "from collections import Counter\n",
    "# noun list \n",
    "n=df.question.apply(lambda x: x.split(' '))\n",
    "# make flat list\n",
    "n_l=[j for i in n for j in i]\n",
    "\n",
    "# coount\n",
    "n_count=Counter(n_l)\n",
    "print('The number of unique nouns in question : ',len(n_count))"
   ]
  },
  {
   "cell_type": "code",
   "execution_count": null,
   "metadata": {},
   "outputs": [],
   "source": [
    "from wordcloud import WordCloud\n",
    "\n",
    "# font path 설정\n",
    "path = \"c:/Windows/Fonts/malgun.ttf\"\n",
    "wc=WordCloud(font_path=path, width=800, height=800).generate_from_frequencies(n_count)\n",
    "\n",
    "plt.figure(figsize=(8, 8))\n",
    "plt.imshow(wc, interpolation=\"bilinear\")\n",
    "plt.axis(\"off\")\n",
    "plt.show()"
   ]
  },
  {
   "cell_type": "markdown",
   "metadata": {},
   "source": [
    "gensim lda"
   ]
  },
  {
   "cell_type": "code",
   "execution_count": null,
   "metadata": {},
   "outputs": [],
   "source": [
    "from gensim.models.ldamodel import LdaModel\n",
    "import gensim.corpora as corpora\n",
    "from gensim.utils import simple_preprocess\n",
    "from gensim.models import CoherenceModel\n",
    "\n",
    "data_question=list(df.question.apply(lambda x : x.split(' ')))\n",
    "\n",
    "# Create Dictionary\n",
    "id2word = corpora.Dictionary(data_question)\n",
    "\n",
    "# Create Corpus\n",
    "texts = data_question\n",
    "\n",
    "# Term Document Frequency\n",
    "corpus = [id2word.doc2bow(text) for text in texts]\n",
    "\n",
    "n_topics=6\n",
    "#prior=[0.36046512,0.05232558,0.34302326,0.21511628,0.00000000,0.02906977]\n",
    "\n",
    "# Build LDA model\n",
    "lda_model = LdaModel(corpus=corpus,\n",
    "           id2word=id2word,\n",
    "           num_topics=n_topics, \n",
    "           random_state=100,\n",
    "           update_every=1,\n",
    "           chunksize=100,\n",
    "           passes=10,\n",
    "           alpha=prior,\n",
    "           per_word_topics=True)\n",
    "\n",
    "lda_model[id2word.doc2bow(df.question[10].split(' '))][0]\n",
    "\n",
    "test_lda = LdaModel(corpus,num_topics=5, id2word=id2word)\n",
    "test_lda[dictionary.doc2bow('human system')]"
   ]
  },
  {
   "cell_type": "markdown",
   "metadata": {},
   "source": [
    "read"
   ]
  },
  {
   "cell_type": "code",
   "execution_count": null,
   "metadata": {},
   "outputs": [],
   "source": [
    "col=['indexx', 'month','index','gender', 'undergrad',   'major', 'address', 'reason', \n",
    "     'topic1', 'topic2', 'topic3', 'medicne', \n",
    "     'PHQ_9_all', 'PHQ_9_9', 'GAD_7', 'PSQI_all', \n",
    "     'PHQ_9_all_after','PHQ_9_9_after', 'GAD_7_after', 'PSQI_all_after']\n",
    "\n",
    "data=pd.read_excel('2018년 상담사례_데이터.xlsx',header=4).reset_index()\n",
    "data.columns=col\n",
    "data=data.drop(['indexx','index'],axis=1)"
   ]
  },
  {
   "cell_type": "code",
   "execution_count": null,
   "metadata": {},
   "outputs": [],
   "source": []
  },
  {
   "cell_type": "code",
   "execution_count": null,
   "metadata": {},
   "outputs": [],
   "source": []
  },
  {
   "cell_type": "code",
   "execution_count": null,
   "metadata": {},
   "outputs": [],
   "source": [
    "from gensim.models.doc2vec import LabeledSentence, Doc2Vec, TaggedDocument\n",
    "\n",
    "# labeled sentence 생성\n",
    "def make_tagged_documnet(documnet,label):\n",
    "    doc=[TaggedDocument(text, [label]) for text, label in list(zip(documnet,label))]\n",
    "    print('The number of tagged documnet :',len(doc))\n",
    "    return doc\n",
    "\n",
    "# doc2vec modeling\n",
    "def modeling_doc2vec(document,label):\n",
    "    doc=make_tagged_documnet(document,label)\n",
    "    # doc2vec parameter\n",
    "    #model=Doc2Vec(doc, dm=0, dm_mean=0, alpha=0.1, vector_size= 300, window = 5, min_count = 1, workers=4, seed = 42, epochs=7, hs=1,negative=3) old version\n",
    "    model=Doc2Vec(doc, dm=0, alpha=0.1, vector_size= 300, window =1, min_count = 1, workers=4, seed = 42, epochs=7,negative=3,dm_concat=0)\n",
    "    return model\n",
    "\n",
    "# 학습한 모델에서 트레인 데이터와 테스트 데이터의 embeded vector를 구하는 함수입니다\n",
    "def get_infer_vector(model,train,test):   \n",
    "    train_vec=[]\n",
    "    test_vec=[]   \n",
    "    for i in train:\n",
    "        model.random.seed(23)\n",
    "        train_vec.append(model.infer_vector(i,alpha=0.001))\n",
    "    for j in test:\n",
    "        model.random.seed(23)\n",
    "        test_vec.append(model.infer_vector(j,alpha=0.001))\n",
    "    \n",
    "    print('train vector len :',len(train_vec))\n",
    "    print('test vector len :',len(test_vec))\n",
    "    return train_vec,test_vec\n",
    "\n",
    "# doc2vec modeling\n",
    "model=modeling_doc2vec(question_list,q_label)\n",
    "\n",
    "# doc2vec modeling\n",
    "model=modeling_doc2vec(survey_list,s_label)\n",
    "\n",
    "all_list=pd.concat([question_list,survey_list])\n",
    "all_label=pd.concat([q_label,s_label])\n",
    "\n",
    "# doc2vec modeling\n",
    "model=modeling_doc2vec(all_list,all_label)\n",
    "\n",
    "##### get infer vector\n",
    "\n",
    "# get infer vector\n",
    "q_vec,s_vec=get_infer_vector(model,question_list,survey_list)"
   ]
  }
 ],
 "metadata": {
  "kernelspec": {
   "display_name": "Python 3",
   "language": "python",
   "name": "python3"
  },
  "language_info": {
   "codemirror_mode": {
    "name": "ipython",
    "version": 3
   },
   "file_extension": ".py",
   "mimetype": "text/x-python",
   "name": "python",
   "nbconvert_exporter": "python",
   "pygments_lexer": "ipython3",
   "version": "3.6.7"
  },
  "toc": {
   "base_numbering": 1,
   "nav_menu": {},
   "number_sections": true,
   "sideBar": true,
   "skip_h1_title": true,
   "title_cell": "Table of Contents",
   "title_sidebar": "Contents",
   "toc_cell": true,
   "toc_position": {},
   "toc_section_display": true,
   "toc_window_display": false
  },
  "varInspector": {
   "cols": {
    "lenName": 16,
    "lenType": 16,
    "lenVar": 40
   },
   "kernels_config": {
    "python": {
     "delete_cmd_postfix": "",
     "delete_cmd_prefix": "del ",
     "library": "var_list.py",
     "varRefreshCmd": "print(var_dic_list())"
    },
    "r": {
     "delete_cmd_postfix": ") ",
     "delete_cmd_prefix": "rm(",
     "library": "var_list.r",
     "varRefreshCmd": "cat(var_dic_list()) "
    }
   },
   "types_to_exclude": [
    "module",
    "function",
    "builtin_function_or_method",
    "instance",
    "_Feature"
   ],
   "window_display": false
  }
 },
 "nbformat": 4,
 "nbformat_minor": 2
}
