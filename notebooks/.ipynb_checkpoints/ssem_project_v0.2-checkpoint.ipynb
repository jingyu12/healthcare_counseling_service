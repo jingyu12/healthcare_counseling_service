{
 "cells": [
  {
   "cell_type": "markdown",
   "metadata": {
    "toc": true
   },
   "source": [
    "<h1>Table of Contents<span class=\"tocSkip\"></span></h1>\n",
    "<div class=\"toc\"><ul class=\"toc-item\"></ul></div>"
   ]
  },
  {
   "cell_type": "markdown",
   "metadata": {},
   "source": [
    "# SSEM X UNIST Health care"
   ]
  },
  {
   "cell_type": "code",
   "execution_count": 2,
   "metadata": {},
   "outputs": [],
   "source": [
    "import pandas as pd\n",
    "import re\n",
    "import numpy as np\n",
    "from eunjeon import Mecab\n",
    "\n",
    "mc=Mecab()\n",
    "\n",
    "def get_nouns(doc):\n",
    "    noun_list=mc.nouns(doc)\n",
    "    noun_list=[noun for noun in noun_list if len(noun)>1]\n",
    "    return ' '.join(noun_list)\n",
    "\n",
    "# 정규표현식을 사용한 노이즈 제거\n",
    "def delete_noise(text):\n",
    "    noise = re.compile('[\\t\\n\\r\\xa0]')                \n",
    "    result=noise.sub(' ',str(text))                   #  \\t, \\n, \\r, \\xa0 제거 \n",
    "    result=re.sub('[^ ㄱ-ㅣ가-힣]+',' ',result)\n",
    "    result=re.sub(' +<.*?>',' ',result)               # 특수문자 제거\n",
    "    result=re.sub(r'[^\\w]',' ',result)                # 특수문자 제거\n",
    "    result=re.sub(' +',' ',result).strip()            # 여러 공백(multi space)을 하나의 공백으로 줄이기\n",
    "    return result\n",
    "\n",
    "def preprocessing_all(doc):\n",
    "    result=delete_noise(doc)\n",
    "    result=get_nouns(result)\n",
    "    return result"
   ]
  },
  {
   "cell_type": "code",
   "execution_count": null,
   "metadata": {},
   "outputs": [],
   "source": [
    "merged=pd.read_pickle('merged.csv')\n",
    "tf_model=pd.read_pickle('tf_model.csv')\n",
    "lda=pd.read_pickle('lda.csv')\n",
    "tf_vec=pd.read_pickle('tf_vec.csv')"
   ]
  },
  {
   "cell_type": "code",
   "execution_count": 6,
   "metadata": {},
   "outputs": [],
   "source": [
    "# Preprocessing step\n",
    "df.question=df.question.apply(preprocessing_all)"
   ]
  },
  {
   "cell_type": "code",
   "execution_count": 10,
   "metadata": {},
   "outputs": [],
   "source": [
    "from sklearn.feature_extraction.text import CountVectorizer\n",
    "from sklearn.decomposition import LatentDirichletAllocation\n",
    "\n",
    "def make_tf(documnet_list,tf_model):\n",
    "    tf_feature_names=tf_vec.get_feature_names()\n",
    "    tf=tf_model.transform(documnet_list)\n",
    "    print('Term frequency matrix shape :',tf.shape)\n",
    "    return tf,tf_feature_names\n",
    "\n",
    "def make_one_hot_vector(a):\n",
    "    result=np.where(a==np.max(a),1,0)\n",
    "    return result"
   ]
  },
  {
   "cell_type": "code",
   "execution_count": 11,
   "metadata": {},
   "outputs": [
    {
     "name": "stdout",
     "output_type": "stream",
     "text": [
      "Term frequency matrix shape : (1802, 6622)\n",
      "Term frequency matrix shape : (440, 6622)\n",
      "Term frequency matrix shape : (2242, 6622)\n"
     ]
    }
   ],
   "source": [
    "# 지식인 Question으로 TF 모델 생성a\n",
    "tf_matrix,tf_feature_names=make_tf(df.question,tf_model)"
   ]
  },
  {
   "cell_type": "code",
   "execution_count": 19,
   "metadata": {},
   "outputs": [],
   "source": [
    "n_topics=6\n",
    "\n",
    "# n_topics -2 --> 1\n",
    "over_k=n_topics-2\n",
    "def make_one_hot_vector(a):\n",
    "    result=np.where(a.argsort()>over_k,1,0)\n",
    "    return result\n",
    "\n",
    "# Q , Survey 확률 array \n",
    "q_prob_array=lda.transform(tf_matrix)\n",
    "ref_array=np.array(range(1,n_topics+1))\n",
    "q_label=pd.Series(np.max(ref_array*make_one_hot_vector(q_prob_array),1))"
   ]
  }
 ],
 "metadata": {
  "kernelspec": {
   "display_name": "Python 3",
   "language": "python",
   "name": "python3"
  },
  "language_info": {
   "codemirror_mode": {
    "name": "ipython",
    "version": 3
   },
   "file_extension": ".py",
   "mimetype": "text/x-python",
   "name": "python",
   "nbconvert_exporter": "python",
   "pygments_lexer": "ipython3",
   "version": "3.6.7"
  },
  "toc": {
   "base_numbering": 1,
   "nav_menu": {},
   "number_sections": true,
   "sideBar": true,
   "skip_h1_title": true,
   "title_cell": "Table of Contents",
   "title_sidebar": "Contents",
   "toc_cell": true,
   "toc_position": {},
   "toc_section_display": true,
   "toc_window_display": false
  },
  "varInspector": {
   "cols": {
    "lenName": 16,
    "lenType": 16,
    "lenVar": 40
   },
   "kernels_config": {
    "python": {
     "delete_cmd_postfix": "",
     "delete_cmd_prefix": "del ",
     "library": "var_list.py",
     "varRefreshCmd": "print(var_dic_list())"
    },
    "r": {
     "delete_cmd_postfix": ") ",
     "delete_cmd_prefix": "rm(",
     "library": "var_list.r",
     "varRefreshCmd": "cat(var_dic_list()) "
    }
   },
   "types_to_exclude": [
    "module",
    "function",
    "builtin_function_or_method",
    "instance",
    "_Feature"
   ],
   "window_display": false
  }
 },
 "nbformat": 4,
 "nbformat_minor": 2
}
